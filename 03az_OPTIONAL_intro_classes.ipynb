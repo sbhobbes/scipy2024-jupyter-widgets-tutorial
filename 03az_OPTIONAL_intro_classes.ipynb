{
 "cells": [
  {
   "cell_type": "markdown",
   "id": "9ab8dad4-3f84-4da9-addd-c7a76141a6f5",
   "metadata": {},
   "source": [
    "## Review of Python classes\n",
    "\n",
    "We begin with a quick review of writing classes in Python. If you are comfortable with this, you can jump ahead to the next section on \"Constructing a (First Draft) `DataSelector` Class with plain Python\".\n",
    "\n",
    "Importing the dashboard gets us the `%answer magic`."
   ]
  },
  {
   "cell_type": "code",
   "execution_count": 1,
   "id": "49ffe92c-1a72-412c-a2b6-1a7371e7eb6f",
   "metadata": {},
   "outputs": [],
   "source": [
    "import dashboard"
   ]
  },
  {
   "cell_type": "markdown",
   "id": "ef02c154-31b7-402c-8f8a-5df6100dcf9d",
   "metadata": {},
   "source": [
    "The smallest class you can write is below. It does not really do anything, but you can create instances of it."
   ]
  },
  {
   "cell_type": "code",
   "execution_count": 2,
   "id": "24576907-11b6-452a-8cef-0d8c7090dca0",
   "metadata": {},
   "outputs": [],
   "source": [
    "class Basic:\n",
    "    \"\"\"This basic class does nothing!\"\"\""
   ]
  },
  {
   "cell_type": "code",
   "execution_count": 3,
   "id": "524f67ff-757e-4b1b-a843-5701e0e2bbdb",
   "metadata": {},
   "outputs": [
    {
     "name": "stdout",
     "output_type": "stream",
     "text": [
      "<__main__.Basic object at 0x000001F0F918EDD0>\n"
     ]
    }
   ],
   "source": [
    "basic = Basic()\n",
    "print(basic)"
   ]
  },
  {
   "cell_type": "markdown",
   "id": "c41b49ed-dab2-43db-8d49-110e9f553636",
   "metadata": {},
   "source": [
    "There is not much going on here, but we do at least get a docstring:"
   ]
  },
  {
   "cell_type": "code",
   "execution_count": 4,
   "id": "fe906f29-e0a3-49e2-bf8d-9d679fb2f1cf",
   "metadata": {},
   "outputs": [
    {
     "name": "stdout",
     "output_type": "stream",
     "text": [
      "This basic class does nothing!\n"
     ]
    }
   ],
   "source": [
    "print(basic.__doc__)"
   ]
  },
  {
   "cell_type": "markdown",
   "id": "e2f29b8b-e558-4943-b08d-439ca7e3441c",
   "metadata": {},
   "source": [
    "### Adding a method to the class\n",
    "\n",
    "A *method* is a function that is part of a class. There are a couple of variations on methods for classes, but for now we will stick to the most common kind, called an *instance method*. \n",
    "\n",
    "One special thing about methods: the first argument will be the instance of the class that is *bound* to the instance. That argument is almost universally called `self` in Python."
   ]
  },
  {
   "cell_type": "code",
   "execution_count": 5,
   "id": "e9ac327e-23fc-49d5-aacc-ebf095914354",
   "metadata": {},
   "outputs": [],
   "source": [
    "class Basic:\n",
    "    \"\"\"This basic class does almost nothing!\"\"\"\n",
    "\n",
    "    def say_hello(self, name):\n",
    "        \"\"\"\n",
    "        Print a greeting.\n",
    "\n",
    "        Parameters\n",
    "        ----------\n",
    "\n",
    "        name: str\n",
    "            Name of the person to be greeted.\n",
    "        \"\"\"\n",
    "        print(f\"Hello {name}!\")"
   ]
  },
  {
   "cell_type": "markdown",
   "id": "01f3a5d1-9098-4b50-99b3-11fba50f7c91",
   "metadata": {},
   "source": [
    "Let's call our new method by creating an instance of the class and calling the `say_hello` method."
   ]
  },
  {
   "cell_type": "code",
   "execution_count": 6,
   "id": "de5088b3-515e-475e-8697-e31828eda09e",
   "metadata": {},
   "outputs": [
    {
     "name": "stdout",
     "output_type": "stream",
     "text": [
      "Hello coder!\n"
     ]
    }
   ],
   "source": [
    "basic = Basic()\n",
    "basic.say_hello(\"coder\")"
   ]
  },
  {
   "cell_type": "markdown",
   "id": "7faed4e9-a87a-46b4-8976-4ea2fee90b3f",
   "metadata": {},
   "source": [
    "### Subclasses\n",
    "\n",
    "Every class in Python is actually derived from another class, called its *parent* (ultimately the \"ancestor\" of all Python classes is the `object` class).  A subclass *inherits* all of the attributes and methods of its parent.\n",
    "\n",
    "As an example of subclassing, we define a class inherits from `Basic` all of its methods and adds a new method that asks the user a question after greeting them."
   ]
  },
  {
   "cell_type": "code",
   "execution_count": 7,
   "id": "068c6be1-2879-4c39-a0d9-399a45f69cdf",
   "metadata": {},
   "outputs": [],
   "source": [
    "# HowYaDoing is the subclass, and Basic is its parent, called a superclass\n",
    "class HowYaDoing(Basic):\n",
    "    \"\"\"\n",
    "    Ask the user how they are doing.\n",
    "    \"\"\"\n",
    "    # This method greets the user, then asks how they are doing.\n",
    "    def howdy(self, name):\n",
    "        \"\"\"\n",
    "        Greet the user, then ask how they are doing.\n",
    "\n",
    "        Parameters\n",
    "        ----------\n",
    "\n",
    "        name: str\n",
    "            Name of person to be greeted.\n",
    "        \"\"\"\n",
    "        # Start by saying hello -- HowYaDoing has a say_hello method from \n",
    "        # the Basic class.\n",
    "        self.say_hello(name)\n",
    "\n",
    "        print(f\"How are you doing, {name}?\")"
   ]
  },
  {
   "cell_type": "markdown",
   "id": "32a11d68-eebd-4573-87b6-a995466cd2f1",
   "metadata": {},
   "source": [
    "Using this class is a lot like using `Basic`:"
   ]
  },
  {
   "cell_type": "code",
   "execution_count": 8,
   "id": "0c4185f1-ab7d-4632-b53d-6e2c23e2fc5d",
   "metadata": {},
   "outputs": [
    {
     "name": "stdout",
     "output_type": "stream",
     "text": [
      "Hello coder!\n",
      "How are you doing, coder?\n"
     ]
    }
   ],
   "source": [
    "hiya = HowYaDoing()\n",
    "hiya.howdy(\"coder\")"
   ]
  },
  {
   "cell_type": "markdown",
   "id": "6077ba93-bab3-4712-b317-6a209c898abe",
   "metadata": {},
   "source": [
    "### Adding an attribute to a class\n",
    "\n",
    "Imagine we were going to extend this class by adding several more methods that each \"say\" something to the user, and that each of those will include the user's name. It would be convenient if the class just knew the name, something we can accomplish by adding an attribute to the class.\n",
    "\n",
    "Here we will add a `name` attribute to the `Basic` class. We will do that in a special method called `__init__` that is called when an instance of the class is created.\n",
    "\n",
    "You may wonder whether `Basic` is a subclass of anything. The answer is yes -- if you do not provide an explicit parent class then Python assumes it is `object`."
   ]
  },
  {
   "cell_type": "code",
   "execution_count": 9,
   "id": "c8a2b3c4-5dd0-4200-96c8-f4783320ce81",
   "metadata": {},
   "outputs": [],
   "source": [
    "# It looks like Basic is not subclassing from anything, but in Python\n",
    "# if an explicit superclass isn't given it is assumed to be object.\n",
    "class Basic:\n",
    "    \"\"\"This basic class does almost nothing!\"\"\"\n",
    "\n",
    "    # This is the new part\n",
    "    def __init__(self, name):\n",
    "        \"\"\"\n",
    "        Parameters\n",
    "        ----------\n",
    "\n",
    "        name : str\n",
    "            Name of the person to be greeted.\n",
    "        \"\"\"\n",
    "        self.name = name\n",
    "\n",
    "    # We do not need a name argument anymore\n",
    "    def say_hello(self):\n",
    "        \"\"\"\n",
    "        Print a greeting.\n",
    "        \"\"\"\n",
    "        # self.name is defined in __init__, which is automatically called\n",
    "        # when an instance of this class is created.\n",
    "        print(f\"Hello {self.name}!\")\n",
    "    "
   ]
  },
  {
   "cell_type": "markdown",
   "id": "e4ab80ed-7b26-4012-9d3d-34c3425cd82d",
   "metadata": {},
   "source": [
    "The details of using this are a little different than our first implementation. "
   ]
  },
  {
   "cell_type": "code",
   "execution_count": 10,
   "id": "d5441e98-e867-437e-9f70-c62cfbd95c2c",
   "metadata": {},
   "outputs": [
    {
     "name": "stdout",
     "output_type": "stream",
     "text": [
      "Hello coder!\n"
     ]
    }
   ],
   "source": [
    "coder_greeter = Basic(\"coder\")\n",
    "coder_greeter.say_hello()"
   ]
  },
  {
   "cell_type": "markdown",
   "id": "c8b09e1e-503c-43d9-8712-47b0051d4150",
   "metadata": {},
   "source": [
    "To wrap this part up, let's rewrite the `HawYaDoing` class to use the `name` attribute. "
   ]
  },
  {
   "cell_type": "code",
   "execution_count": 11,
   "id": "11ff5eb8-d5f3-474e-8efa-83d30cab4349",
   "metadata": {},
   "outputs": [],
   "source": [
    "class HowYaDoing(Basic):\n",
    "    \"\"\"\n",
    "    Ask the user how they are doing.\n",
    "    \"\"\"\n",
    "    # This method greets the user, then asks how they are doing. We don't \n",
    "    # need the name anymore since it is defined in Basic now.\n",
    "    def howdy(self):\n",
    "        \"\"\"\n",
    "        Greet the user, then ask how they are doing.\n",
    "        \"\"\"\n",
    "        self.say_hello()\n",
    "\n",
    "        # Note we access the name via self        \n",
    "        print(f\"How are you doing, {self.name}?\")"
   ]
  },
  {
   "cell_type": "code",
   "execution_count": 12,
   "id": "27d798d5-ac65-4e09-b075-753b78691e85",
   "metadata": {},
   "outputs": [
    {
     "name": "stdout",
     "output_type": "stream",
     "text": [
      "Hello coder!\n",
      "How are you doing, coder?\n"
     ]
    }
   ],
   "source": [
    "howdy_coder = HowYaDoing(\"coder\")\n",
    "howdy_coder.howdy()"
   ]
  },
  {
   "cell_type": "markdown",
   "id": "95e984ba-d96e-4f01-874b-c520ec900377",
   "metadata": {},
   "source": [
    "### Exercise"
   ]
  },
  {
   "cell_type": "markdown",
   "id": "1f5cdec2-4b08-4a7f-b790-c027542e4435",
   "metadata": {},
   "source": [
    "Add another method to `HowYaDoing` that asks the user \"What is up?\" and includes their name in the question. Call the method `whats_up`."
   ]
  },
  {
   "cell_type": "code",
   "execution_count": 13,
   "id": "baa12db0-1337-4937-bb48-750ffab42665",
   "metadata": {},
   "outputs": [],
   "source": [
    "# TODO: write answer "
   ]
  },
  {
   "cell_type": "markdown",
   "id": "329af555-4bc3-42f0-91dc-13c96c840d38",
   "metadata": {},
   "source": [
    "### Constructing a (First Draft) `DataSelector` Class with plain Python"
   ]
  },
  {
   "cell_type": "markdown",
   "id": "facee432-bd39-4ad6-83f2-1ec9fd64d557",
   "metadata": {},
   "source": [
    "Next, we write a class with a single attribute, called `year_range`. This is not the most compact or efficient way that a class that simply has one attribute could be written, but that is deliberate. Understanding the \"plainest\" way to do this will help motivate some of the shortcuts we see in a little bit.\n",
    "\n",
    "Unlike the `name` attribute above, a default value is provided for `year_range`.\n",
    "\n",
    "This class also has a method called `__init__` that is called when the class is created, as in our first example.\n",
    "\n",
    "The `print` statement in the `__init__` is there to make it easier to see when it is called. It will not be included in the final version of this class."
   ]
  },
  {
   "cell_type": "code",
   "execution_count": 14,
   "id": "3aac78c6-6092-45fb-a16f-1fc4f7eed8ad",
   "metadata": {},
   "outputs": [],
   "source": [
    "class DataSelectorPlainPython:\n",
    "    \"\"\"\n",
    "    Partial implementation of a class to hold a data selector widget.\n",
    "    \"\"\"\n",
    "    def __init__(self, year_range_input=(1800, 2000)):\n",
    "        \"\"\"\n",
    "        Parameters\n",
    "        ----------\n",
    "\n",
    "        year_range_input: tuple[int, int]\n",
    "            A tuple of two integers that is the range of years present in the data.\n",
    "\n",
    "        Attributes\n",
    "        ----------\n",
    "\n",
    "        year_range: tuple[int, int]\n",
    "            The range of the data.\n",
    "        \"\"\"\n",
    "        self.year_range = year_range_input\n",
    "        print(f\"In __init__, {year_range_input=} and {self.year_range=}\")"
   ]
  },
  {
   "cell_type": "markdown",
   "id": "0a1a7ad9-ad6a-4f2a-88ac-922141987db7",
   "metadata": {},
   "source": [
    "Let's make an instance of this class and print it."
   ]
  },
  {
   "cell_type": "code",
   "execution_count": 15,
   "id": "57cb8b05-9df6-45d5-afa8-81e888da6b0f",
   "metadata": {},
   "outputs": [
    {
     "name": "stdout",
     "output_type": "stream",
     "text": [
      "In __init__, year_range_input=(1800, 2000) and self.year_range=(1800, 2000)\n",
      "selector_plain=<__main__.DataSelectorPlainPython object at 0x000001F0F92D00D0>\n",
      "selector_plain.year_range=(1800, 2000)\n"
     ]
    }
   ],
   "source": [
    "selector_plain = DataSelectorPlainPython()\n",
    "print(f\"{selector_plain=}\")\n",
    "print(f\"{selector_plain.year_range=}\")"
   ]
  },
  {
   "cell_type": "markdown",
   "id": "f83cb881-7e35-4113-92cb-7dbbe75dbeaa",
   "metadata": {},
   "source": [
    "It is great that we can see (and could use) the `year_range` but printing the object itself is not that nice. We will return to that later."
   ]
  },
  {
   "cell_type": "markdown",
   "id": "452761fb-674d-43db-b644-282b3bea08c2",
   "metadata": {},
   "source": [
    "### Comparing instances of a class\n",
    "\n",
    "You might expect that two instances of the class that have the same value for its attribute would be considered by Python to be equal. Let's give that a try."
   ]
  },
  {
   "cell_type": "code",
   "execution_count": 16,
   "id": "55d69e8f-0004-45dd-b130-a4a9c76eeb6a",
   "metadata": {},
   "outputs": [
    {
     "name": "stdout",
     "output_type": "stream",
     "text": [
      "In __init__, year_range_input=(1991, 2018) and self.year_range=(1991, 2018)\n",
      "In __init__, year_range_input=(1991, 2018) and self.year_range=(1991, 2018)\n"
     ]
    },
    {
     "data": {
      "text/plain": [
       "False"
      ]
     },
     "execution_count": 16,
     "metadata": {},
     "output_type": "execute_result"
    }
   ],
   "source": [
    "sel_plain_2 = DataSelectorPlainPython(year_range_input=(1991, 2018))\n",
    "sel_plain_3 = DataSelectorPlainPython(year_range_input=(1991, 2018))\n",
    "\n",
    "sel_plain_3 == sel_plain_2"
   ]
  },
  {
   "cell_type": "markdown",
   "id": "91fec1cf-d0d3-40f8-823c-9cb2057eb40d",
   "metadata": {},
   "source": [
    "Apparently Python does not see these as the same! We could fix that by implementing another magic method called `__eq__`, but it turns out there is an easier way, using data classes, which we will talk about shortly."
   ]
  },
  {
   "cell_type": "markdown",
   "id": "9c5dd91e-16af-443a-87b9-865fc600a3c1",
   "metadata": {},
   "source": [
    "### Exercise"
   ]
  },
  {
   "cell_type": "markdown",
   "id": "c1cb9bd8-00c9-49a6-bde7-8d676d8e6822",
   "metadata": {},
   "source": [
    "1. Try making another instance of `DataSelectorPlainPython` with a `year_range` of 1950 to 2020. You cannot modify the class definition to do this part."
   ]
  },
  {
   "cell_type": "code",
   "execution_count": 17,
   "id": "77cdf820-e82a-422d-8143-5de5fd779fa5",
   "metadata": {},
   "outputs": [],
   "source": [
    "# %answer key/03a/01.py"
   ]
  },
  {
   "cell_type": "markdown",
   "id": "0458d897-7dea-478b-8127-58250723e470",
   "metadata": {},
   "source": [
    "2. Add a `window_size` attribute with a default value of 2 and a `polynomial_order` attribute with a default value of 1 to the class in the cell below."
   ]
  },
  {
   "cell_type": "code",
   "execution_count": 18,
   "id": "74a88c91-6028-4037-8955-ae32ff4eb36b",
   "metadata": {},
   "outputs": [],
   "source": [
    "# %answer key/03a/03.py\n",
    "\n",
    "class DataSelectorPlainPython:\n",
    "    \"\"\"\n",
    "    Partial implementation of a class to hold a data selector widget.\n",
    "    \"\"\"\n",
    "    def __init__(\n",
    "        self,\n",
    "        year_range_input=(1800, 2000),\n",
    "        window_size=2,\n",
    "        polynomial_order=1,\n",
    "    ):\n",
    "        self.year_range = year_range_input\n",
    "        self.window_size = window_size\n",
    "        self.polynomial_order = polynomial_order\n"
   ]
  },
  {
   "cell_type": "markdown",
   "id": "30f1c840-268a-4e36-a6d2-171667d2e1f3",
   "metadata": {},
   "source": [
    "3. Make an instance of the class called `selector_plain` and print each of its attributes."
   ]
  },
  {
   "cell_type": "code",
   "execution_count": 19,
   "id": "f48bf5ff-9157-4b07-86d9-00a3c300a2b6",
   "metadata": {},
   "outputs": [],
   "source": [
    "# %answer key/03a/05.py\n"
   ]
  },
  {
   "cell_type": "markdown",
   "id": "fc3f4cd2-a228-48c5-8112-edcb9909aac1",
   "metadata": {},
   "source": [
    "4. Try setting the attributes to nonsense values, e.g. a string, and see what happens."
   ]
  },
  {
   "cell_type": "code",
   "execution_count": 20,
   "id": "1347351a-bd7e-4b62-9683-41bc874b3d16",
   "metadata": {},
   "outputs": [],
   "source": [
    "# %answer key/03a/07.py\n"
   ]
  },
  {
   "cell_type": "markdown",
   "id": "ab59574d-dd68-40d4-85f3-39c3812a6bbb",
   "metadata": {},
   "source": [
    "At this point we have a class which has all the attributes we want, though it has no widgets attached to it, no notion of what constitute valid values, and is a little verbose to write."
   ]
  }
 ],
 "metadata": {
  "kernelspec": {
   "display_name": "Python 3 (ipykernel)",
   "language": "python",
   "name": "python3"
  },
  "language_info": {
   "codemirror_mode": {
    "name": "ipython",
    "version": 3
   },
   "file_extension": ".py",
   "mimetype": "text/x-python",
   "name": "python",
   "nbconvert_exporter": "python",
   "pygments_lexer": "ipython3",
   "version": "3.11.9"
  }
 },
 "nbformat": 4,
 "nbformat_minor": 5
}
