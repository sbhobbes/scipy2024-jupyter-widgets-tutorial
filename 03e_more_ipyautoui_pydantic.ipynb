{
 "cells": [
  {
   "cell_type": "markdown",
   "id": "46efd483-a73e-43e2-ba2e-879b790fcddf",
   "metadata": {},
   "source": [
    "# Further exploration of ipyautoui\n",
    "\n",
    "**NOTE:** We will not export the content in this notebook to a Python module with nbdev.\n",
    "\n",
    "### Goal of this notebook \n",
    "\n",
    "This notebook contains a few additional discussion and examples of using ipyautoui. One is to demonstrate that is relatively straightforward to modify the dashboard when built in a more modular way.\n",
    "\n",
    "### Steps you will take in this notebook\n",
    "\n",
    "1. Make the calculation and display of the smoothing optional.\n",
    "2. Explore more of what `ipyautoui` can do."
   ]
  },
  {
   "cell_type": "markdown",
   "id": "e380a40b-2631-41e7-a0be-f94d89d8c492",
   "metadata": {},
   "source": [
    "## An extension: making the smoothing optional"
   ]
  },
  {
   "cell_type": "markdown",
   "id": "671a207d-4d0e-4394-94b4-686bf078003a",
   "metadata": {},
   "source": [
    "It might be convenient for the smoothing to be optional, with settings for window size and order available if the user wants to have the smoothed line on their graph.\n",
    "\n",
    "Our motivation for adding that feature is to illustrate the utility of pydantic and ipyautoui for rapidly refactoring the design of an interface."
   ]
  },
  {
   "cell_type": "markdown",
   "id": "8a6fdf9a-4e19-431a-9f27-59502f5c6c3b",
   "metadata": {},
   "source": [
    "### Step 1: make the smoothing settings a separate model"
   ]
  },
  {
   "cell_type": "markdown",
   "id": "3acaea6c-76fd-43cd-9150-31d00c2fc83f",
   "metadata": {},
   "source": [
    "We begin by making a pydnatic model for just the smoothing settings. The fields `window_size` and `polynomial_order` are identical to what we defined in the previous notebook."
   ]
  },
  {
   "cell_type": "code",
   "execution_count": 1,
   "id": "7d369161-c7d1-4208-8da4-78083bd903ad",
   "metadata": {},
   "outputs": [],
   "source": [
    "from typing import Annotated\n",
    "\n",
    "import ipywidgets as widgets\n",
    "from ipyautoui import AutoUi\n",
    "from pydantic import BaseModel, Field, model_validator"
   ]
  },
  {
   "cell_type": "code",
   "execution_count": 2,
   "id": "c885cc5e-499f-4875-81e3-bdde383649b0",
   "metadata": {},
   "outputs": [],
   "source": [
    "class SmoothingSettings(BaseModel, validate_assignment=True):\n",
    "    window_size: Annotated[int, Field(ge=2, le=100)] = 2\n",
    "    polynomial_order: Annotated[int, Field(ge=1, le=10)] = 1\n",
    "\n",
    "    # mode=\"after\" means the validator runs after pydantic has checked that the individual\n",
    "    # fields have values that are valid.\n",
    "    @model_validator(mode=\"after\")\n",
    "    def limit_polynomial_order(self):\n",
    "        \n",
    "        if self.polynomial_order > self.window_size - 1:\n",
    "            # Handle a bad polynomial order or window size\n",
    "            raise ValueError(\"Polynomial order must be smaller than window size\")\n",
    "            \n",
    "        # If we got this far the polynomial order is consistent with the window size\n",
    "        # so return self. Failing to return self will end up causing an error.\n",
    "        return self"
   ]
  },
  {
   "cell_type": "markdown",
   "id": "52629f11-b270-4881-9e88-9bd82be1b386",
   "metadata": {},
   "source": [
    "Let's take a quick look at the ipyautoui-generated widget for this to make sure it is what we want."
   ]
  },
  {
   "cell_type": "code",
   "execution_count": 3,
   "id": "2869bd97-a04e-46ea-8728-e4071bef2eaf",
   "metadata": {},
   "outputs": [
    {
     "data": {
      "application/vnd.jupyter.widget-view+json": {
       "model_id": "4b5260fe2d0d47ed85ef80f46f114170",
       "version_major": 2,
       "version_minor": 0
      },
      "text/plain": [
       "AutoUi(children=(SaveButtonBar(children=(ToggleButton(value=False, button_style='success', disabled=True, icon…"
      ]
     },
     "execution_count": 3,
     "metadata": {},
     "output_type": "execute_result"
    }
   ],
   "source": [
    "ui_smooth = AutoUi(SmoothingSettings)\n",
    "ui_smooth"
   ]
  },
  {
   "cell_type": "markdown",
   "id": "c24bea2e-e466-405b-8260-c6fbbe1c0741",
   "metadata": {},
   "source": [
    "### Step 2: Change the model for the controls"
   ]
  },
  {
   "cell_type": "markdown",
   "id": "cf984643-99d6-42bc-944f-a34fee7aab02",
   "metadata": {},
   "source": [
    "Now we make a class to hold the controls which has two fields: `year_range` and `smoothing`. For `smoothing`, we use the union operator `|` in the type annotation to indicate that the `smoothing` can be either of type `SmoothingSettings` or can be `None`.\n",
    "\n",
    "To define the `year_range` properly we use the `ConstrainedInt` type we defined in a previous notebook."
   ]
  },
  {
   "cell_type": "code",
   "execution_count": 4,
   "id": "38aec221-f62d-45c4-8287-0a772daf0109",
   "metadata": {},
   "outputs": [],
   "source": [
    "from key.dashboard_pydantic.pydantic_model import ConstrainedInt"
   ]
  },
  {
   "cell_type": "code",
   "execution_count": 5,
   "id": "6f24859b-6f03-4dc2-958d-0075a8b076af",
   "metadata": {},
   "outputs": [],
   "source": [
    "class DataSelectorModel(BaseModel, validate_assignment=True):\n",
    "    \"\"\"\n",
    "    Controls for temperature graph.\n",
    "\n",
    "    👉👉👉 Replaces the DataSelectorModel in the original pydantic dashboard 👈👈👈\n",
    "    \"\"\"\n",
    "    year_range: Annotated[\n",
    "        # The key change is in the line below\n",
    "        tuple[ConstrainedInt, ConstrainedInt],\n",
    "        # With this change to the type we no longer need to tell ipyautoui\n",
    "        # what kind of widget to use. Field contains just a brief description\n",
    "        Field(description=\"Range of years to plot\")\n",
    "    ] = (1800, 2000)\n",
    "    smoothing: SmoothingSettings | None"
   ]
  },
  {
   "cell_type": "markdown",
   "id": "a5607edc-ea3b-41a5-a48c-fabf10996aa9",
   "metadata": {},
   "source": [
    "Next, let's see how ipyautoui renders this."
   ]
  },
  {
   "cell_type": "code",
   "execution_count": 6,
   "id": "ec243a99-2a21-4347-98d5-5aa39b1d0401",
   "metadata": {},
   "outputs": [
    {
     "data": {
      "application/vnd.jupyter.widget-view+json": {
       "model_id": "e5905c46f9c44084b1b7e7e91fdde8c9",
       "version_major": 2,
       "version_minor": 0
      },
      "text/plain": [
       "AutoUi(children=(SaveButtonBar(children=(ToggleButton(value=False, button_style='success', disabled=True, icon…"
      ]
     },
     "execution_count": 6,
     "metadata": {},
     "output_type": "execute_result"
    }
   ],
   "source": [
    "controls = AutoUi(DataSelectorModel)\n",
    "controls"
   ]
  },
  {
   "cell_type": "markdown",
   "id": "8d168a22-8652-4fbc-b26d-45cb213d43d1",
   "metadata": {},
   "source": [
    "### Step 3: Enforce the constraint between `window_size` and `polynomial_order`"
   ]
  },
  {
   "cell_type": "markdown",
   "id": "b4219527-b183-4cd2-839d-8660e76ad646",
   "metadata": {},
   "source": [
    "In an earlier notebook we constrained the smoothing settings so that the user could not set an invalid value. We do that again below."
   ]
  },
  {
   "cell_type": "code",
   "execution_count": 7,
   "id": "02408499-6ccb-46dc-9959-fce463330962",
   "metadata": {},
   "outputs": [],
   "source": [
    "from key.dashboard_pydantic.widgets_autoui import make_enforcer\n",
    "controls.observe(make_enforcer(controls), \"_value\")"
   ]
  },
  {
   "cell_type": "markdown",
   "id": "b7573cc7-287b-4130-ac6f-1e6031bb1724",
   "metadata": {},
   "source": [
    "### Step 4: Revise the `DataAndPlot` class\n",
    "\n",
    "Since we have made a change in the way that the settings are defined we need to update the class we made holding the table and graph.\n",
    "\n",
    "The only new lines are indicated with this notation in the code below; the rest is unchanged from the earlier notebook.\n",
    "\n",
    "```python\n",
    "# 👉👉👉 Changes to the code are indicated by this 👈👈👈\n",
    "```"
   ]
  },
  {
   "cell_type": "code",
   "execution_count": 8,
   "id": "d78df45d-652f-4f18-8b5e-2c73b31265d6",
   "metadata": {},
   "outputs": [],
   "source": [
    "from ipydatagrid import DataGrid\n",
    "from matplotlib import pyplot as plt\n",
    "from scipy.signal import savgol_filter\n",
    "import pandas as pd\n",
    "import traitlets as tr\n",
    "\n",
    "class DataAndPlot(tr.HasTraits):\n",
    "    smoothing_info = tr.Dict(allow_none=True, default=None)\n",
    "    \n",
    "    def __init__(self):\n",
    "        self.original_data = pd.read_csv(Path(DATA_DIR) / DATA_FILE, escapechar='#')\n",
    "        self.plot_output = widgets.Output()\n",
    "        self.data_output = DataGrid(self.original_data, header_visibility=\"column\", auto_fit_columns=True)\n",
    "        # 👉👉👉 New attribute to track whether smoothing is turned on   👈👈👈\n",
    "        self.smooth = False\n",
    "\n",
    "    @tr.observe('smoothing_info')\n",
    "    def select_and_plot(self, change):\n",
    "        # 👉👉👉 Set smoothing attribute based on value from controls 👈👈👈\n",
    "        self.smooth = change[\"new\"][\"smoothing\"] is not None\n",
    "\n",
    "        # 👉👉👉 Only calculate smoothing column if smoothing is turned on 👈👈👈\n",
    "        if self.smooth:\n",
    "            self.window_size = change[\"new\"][\"smoothing\"][\"window_size\"]\n",
    "            self.polynomial_order = change[\"new\"][\"smoothing\"][\"polynomial_order\"]\n",
    "        \n",
    "            self.original_data['Savitzky-Golay'] = savgol_filter(\n",
    "                self.original_data['Temperature'], \n",
    "                self.window_size, \n",
    "                self.polynomial_order\n",
    "            )\n",
    "        self.year_range = change[\"new\"][\"year_range\"]\n",
    "        \n",
    "        self.selected = (\n",
    "            self.original_data[(self.original_data['Year'] >= self.year_range[0]) & \n",
    "                               (self.original_data['Year'] <= self.year_range[1])]\n",
    "        )\n",
    "        self.display_plot()\n",
    "        self.display_data()\n",
    "\n",
    "    def display_plot(self): \n",
    "        # This plotting function is copied from the first \n",
    "        # version of the dashboard.\n",
    "        self.plot_output.clear_output(wait=True) \n",
    "        with self.plot_output: \n",
    "            plt.xlabel('Year') \n",
    "            plt.ylabel('Temperature Anomalies over Land w.r.t. 1951-80 (˚C)') \n",
    "            plt.title('Global Annual Mean Surface Air Temperature Change')\n",
    "            plt.plot(self.selected['Year'], self.selected['Temperature'], label='Raw Data') \n",
    "            # 👉👉👉 Only plot smoothing if it is turned on 👈👈👈\n",
    "            if self.smooth:\n",
    "                plt.plot(self.selected['Year'], self.selected['Savitzky-Golay'], label='Smoothed Data') \n",
    "            plt.legend()\n",
    "            plt.show() \n",
    "\n",
    "    def display_data(self):\n",
    "        self.data_output.data = self.selected"
   ]
  },
  {
   "cell_type": "markdown",
   "id": "e4d120bd-fad7-43be-b40e-2c3154d32cd2",
   "metadata": {},
   "source": [
    "### Step 6: build the dashboard\n",
    "\n",
    "The code below is copy/pasted from `key/dashboard_pydantic/mail.py` with almost no modification. Only some import statements have been removed, and one line added to import the text boxes and some constants from the pydantic dashboard."
   ]
  },
  {
   "cell_type": "code",
   "execution_count": 9,
   "id": "f1d3caa6-b2c4-4c63-a068-4ee18513fb9a",
   "metadata": {},
   "outputs": [],
   "source": [
    "# 👉👉👉 Get the unmodified widgets from the pydantic version of the dashboard 👈👈👈\n",
    "from key.dashboard_pydantic.widgets_classes import TextBoxes, DATA_DIR, DATA_FILE\n",
    "\n",
    "from pathlib import Path\n",
    "# Create a VBox to hold the description and control widgets\n",
    "desc_and_ctrl_box = widgets.VBox()\n",
    "\n",
    "# Add a vertical box holding both table and plot visualizations of selected data\n",
    "data_box = widgets.VBox()\n",
    "\n",
    "# The entire widget\n",
    "main_widget = widgets.HBox(children = (desc_and_ctrl_box, data_box))\n",
    "\n",
    "\n",
    "data_and_plot = DataAndPlot()\n",
    "text_boxes = TextBoxes()\n",
    "\n",
    "data_accordion = widgets.Accordion(children=(data_and_plot.data_output,), titles=(\"Selected Data\",))\n",
    "desc_and_ctrl_box.children = (text_boxes, controls)\n",
    "data_box.children = (data_accordion, data_and_plot.plot_output)\n",
    "\n",
    "\n",
    "source = (controls, \"_value\")\n",
    "target = (data_and_plot, \"smoothing_info\")\n",
    "link = widgets.link(source, target)\n",
    "\n",
    "for widget in controls.di_widgets.values():\n",
    "    widget.layout.max_width = \"250px\""
   ]
  },
  {
   "cell_type": "code",
   "execution_count": 10,
   "id": "e390f0f2-c271-4aaa-af02-8b1f5cd1318e",
   "metadata": {},
   "outputs": [
    {
     "data": {
      "application/vnd.jupyter.widget-view+json": {
       "model_id": "6439f0e941624753af49a9447eba07d0",
       "version_major": 2,
       "version_minor": 0
      },
      "text/plain": [
       "HBox(children=(VBox(children=(TextBoxes(children=(HTML(value='\\n<p><b>Curve Smoothing</b>\\nThis tool is for sm…"
      ]
     },
     "execution_count": 10,
     "metadata": {},
     "output_type": "execute_result"
    }
   ],
   "source": [
    "main_widget"
   ]
  },
  {
   "cell_type": "markdown",
   "id": "89dc8e73-a42d-48b5-972c-84d76d7a8951",
   "metadata": {},
   "source": [
    "## Try out the `ipyautoui` demo\n",
    "\n",
    "The easiest way to get a better idea of what ipyautoui can do is to try out its demo. If you have time, feel free to explore!"
   ]
  },
  {
   "cell_type": "code",
   "execution_count": null,
   "id": "165c26b6-020f-446e-afff-8d236124d12f",
   "metadata": {},
   "outputs": [],
   "source": [
    "from ipyautoui import demo\n",
    "demo()"
   ]
  }
 ],
 "metadata": {
  "kernelspec": {
   "display_name": "Python 3 (ipykernel)",
   "language": "python",
   "name": "python3"
  },
  "language_info": {
   "codemirror_mode": {
    "name": "ipython",
    "version": 3
   },
   "file_extension": ".py",
   "mimetype": "text/x-python",
   "name": "python",
   "nbconvert_exporter": "python",
   "pygments_lexer": "ipython3",
   "version": "3.11.9"
  }
 },
 "nbformat": 4,
 "nbformat_minor": 5
}
