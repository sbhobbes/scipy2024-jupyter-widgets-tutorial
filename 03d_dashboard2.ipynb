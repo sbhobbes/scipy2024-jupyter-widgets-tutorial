{
 "cells": [
  {
   "cell_type": "markdown",
   "id": "5e8831f5-5b28-4590-b268-c018e4c99c06",
   "metadata": {},
   "source": [
    "# Assemble the dashboard\n",
    "\n",
    "### Goal of this notebook \n",
    "\n",
    "We will assemble the pieces from the previous notebooks into a dashboard.\n",
    "\n",
    "### Steps you will take in this notebook\n",
    "\n",
    "1. Import the widgets from `dashboard_pydantic`.\n",
    "2. Compose them into the dashboard."
   ]
  },
  {
   "cell_type": "markdown",
   "id": "5c2f1200-8c7e-4fc5-b27a-f0a0c238c31d",
   "metadata": {},
   "source": [
    "We begin by loading the answer magic from the first dashboard."
   ]
  },
  {
   "cell_type": "code",
   "execution_count": 1,
   "id": "3205e31b-1503-46d6-b14d-fa38dcc753aa",
   "metadata": {},
   "outputs": [],
   "source": [
    "import dashboard"
   ]
  },
  {
   "cell_type": "code",
   "execution_count": 2,
   "id": "85267750-4890-4ef0-a33d-cc6998d3cbc3",
   "metadata": {},
   "outputs": [],
   "source": [
    "#| default_exp main"
   ]
  },
  {
   "cell_type": "markdown",
   "id": "8f235f67-8b27-40c1-98c0-a003bb544d50",
   "metadata": {},
   "source": [
    "## Import our widgets"
   ]
  },
  {
   "cell_type": "markdown",
   "id": "2280bdee-647f-4740-9f54-96e6aa90f440",
   "metadata": {},
   "source": [
    "Next we import the widgets that will make up the dashboard."
   ]
  },
  {
   "cell_type": "code",
   "execution_count": 3,
   "id": "c72b6687-7565-4287-b4dc-01c4446765e0",
   "metadata": {},
   "outputs": [],
   "source": [
    "#| export\n",
    "import ipywidgets as widgets\n",
    "\n",
    "from dashboard_pydantic.widgets_autoui import controls\n",
    "from dashboard_pydantic.widgets_classes import DataAndPlot, TextBoxes"
   ]
  },
  {
   "cell_type": "markdown",
   "id": "44f3085c-7382-4caf-8bbd-13b5c72448c9",
   "metadata": {},
   "source": [
    "## Create the framework of our dashboard"
   ]
  },
  {
   "cell_type": "markdown",
   "id": "518d0c6a-10a5-4d5c-a14a-6adce2e2b23e",
   "metadata": {},
   "source": [
    "We assemble our final dashboard here. We will begin by making the left `VBox`, the right `VBox`, and the main container `HBox`."
   ]
  },
  {
   "cell_type": "code",
   "execution_count": 4,
   "id": "43b9bc72-a2bb-4561-9e04-aa1c1da6a1ff",
   "metadata": {},
   "outputs": [],
   "source": [
    "#| export \n",
    "\n",
    "# Create a VBox to hold the description and control widgets\n",
    "desc_and_ctrl_box = widgets.VBox()\n",
    "\n",
    "# Add a vertical box holding both table and plot visualizations of selected data\n",
    "data_box = widgets.VBox()\n",
    "\n",
    "# The entire widget\n",
    "main_widget = widgets.HBox(children = (desc_and_ctrl_box, data_box))"
   ]
  },
  {
   "cell_type": "markdown",
   "id": "bc1ff4db-7a93-4d66-8fc7-ca8d66395cf4",
   "metadata": {},
   "source": [
    "Let's display the widget so we can see what changes as we work on the dashboard. It is helpful to make a new view for this output.\n",
    "\n",
    "*Note that initially there will be nothing displayed in the output cell. We fix that up below.*"
   ]
  },
  {
   "cell_type": "code",
   "execution_count": 5,
   "id": "b0dd2cb1-9bf7-466d-a8f1-aa091dff7b7d",
   "metadata": {},
   "outputs": [
    {
     "data": {
      "application/vnd.jupyter.widget-view+json": {
       "model_id": "8c4eca8efda84f2394340dbeb32c84de",
       "version_major": 2,
       "version_minor": 0
      },
      "text/plain": [
       "HBox(children=(VBox(), VBox()))"
      ]
     },
     "execution_count": 5,
     "metadata": {},
     "output_type": "execute_result"
    }
   ],
   "source": [
    "main_widget"
   ]
  },
  {
   "cell_type": "markdown",
   "id": "f403561d-15a1-4434-8fa5-d03ac1d73d79",
   "metadata": {},
   "source": [
    "## Make instances of the dashboard widgets and place them in containers"
   ]
  },
  {
   "cell_type": "markdown",
   "id": "23587e62-9e05-4bb0-8b1a-5be12aeed12c",
   "metadata": {},
   "source": [
    "Next we create an instance of each of the widget classes and set the children of the left and right boxes."
   ]
  },
  {
   "cell_type": "code",
   "execution_count": 7,
   "id": "4940f5ed-adb5-425e-a116-a003c1201a2d",
   "metadata": {},
   "outputs": [],
   "source": [
    "#| export\n",
    "\n",
    "data_and_plot = DataAndPlot()\n",
    "text_boxes = TextBoxes()\n",
    "\n",
    "data_accordion = widgets.Accordion(children=(data_and_plot.data_output,), titles=(\"Selected Data\",))\n",
    "desc_and_ctrl_box.children = (text_boxes, controls)\n",
    "data_box.children = (data_accordion, data_and_plot.plot_output)"
   ]
  },
  {
   "cell_type": "markdown",
   "id": "d0aefe02-f30e-43cd-8e0d-9ba466cd7382",
   "metadata": {},
   "source": [
    "## Connect the widgets using `link`"
   ]
  },
  {
   "cell_type": "markdown",
   "id": "900f8139-660a-4963-b498-47976adf71ee",
   "metadata": {},
   "source": [
    "No plot is displayed yet because we haven't set any of the display parameters. We make that connection below using a way to connect widgets that we have not discussed yet: widgets traitlets can be linked to each other so that any change in the value of one changes the other.\n",
    "\n",
    "`link` takes two required arguments and one optional argument. The required arguments are each a tuple of a widget and the attribute of that widget to be linked. The optional argument, which we won't use here, is a callable that transforms the attribute on the source to the attribute on the target."
   ]
  },
  {
   "cell_type": "code",
   "execution_count": 8,
   "id": "f613dc00-640a-443f-9968-bf26d8c85a86",
   "metadata": {},
   "outputs": [],
   "source": [
    "#| export\n",
    "\n",
    "source = (controls, \"_value\")\n",
    "target = (data_and_plot, \"smoothing_info\")\n",
    "link = widgets.link(source, target)"
   ]
  },
  {
   "cell_type": "markdown",
   "id": "ff712ada-8961-4509-b7be-4fd03bcd3799",
   "metadata": {},
   "source": [
    "## Do some formating"
   ]
  },
  {
   "cell_type": "markdown",
   "id": "9660e325-1bd7-489c-b808-15500094f2e9",
   "metadata": {},
   "source": [
    "Finally, we make some of styling changes that we made to the first version of the dashboard."
   ]
  },
  {
   "cell_type": "code",
   "execution_count": 9,
   "id": "3295c402-1071-479b-94b4-ca4ba3827ea6",
   "metadata": {},
   "outputs": [],
   "source": [
    "# Height and width of the data display\n",
    "data_and_plot.data_output.layout.height = \"200px\"\n",
    "data_and_plot.data_output.layout.width = \"350px\"\n",
    "\n",
    "# Open the data accordion\n",
    "data_accordion.selected_index = 0\n",
    "\n",
    "# Do the text layout\n",
    "text_boxes.layout.max_width = \"500px\"\n",
    "\n",
    "# Set the maximum size for the controls\n",
    "controls.layout.max_width = \"500px\""
   ]
  },
  {
   "cell_type": "markdown",
   "id": "7b608ae3-985c-49f1-a0ce-bbd631b606bf",
   "metadata": {},
   "source": [
    "The autoui-generated sliders are large enough that they are causing the title/description to wrap. We will make them a little smaller below by looping over the individual input widgets and setting their width.\n",
    "\n",
    "**EXERCISE:** Fill in the missing loop variable below. You may need to look back at notebook [03b_ipyautoui](03b_ipyautoui.ipynb)."
   ]
  },
  {
   "cell_type": "code",
   "execution_count": 13,
   "id": "5fb91516-a373-40ec-8dc5-556dac04580f",
   "metadata": {},
   "outputs": [],
   "source": [
    "# %answer key/03d/01.py\n",
    "\n",
    "for widget in controls.di_widgets.values():\n",
    "    widget.layout.max_width = \"250px\""
   ]
  },
  {
   "cell_type": "markdown",
   "id": "8d314b6d-f565-4a36-a4ea-ecca3ced8987",
   "metadata": {},
   "source": [
    "As usual, we finish by exporting with nbdev."
   ]
  },
  {
   "cell_type": "code",
   "execution_count": 15,
   "id": "acf9d721-c000-4436-8515-4d1318ccf269",
   "metadata": {},
   "outputs": [],
   "source": [
    "from nbdev.export import nb_export\n",
    "\n",
    "nb_export('03d_dashboard2.ipynb', 'dashboard_pydantic')"
   ]
  },
  {
   "cell_type": "markdown",
   "id": "c4d78d0d-0e53-4d81-b249-442caa05b79b",
   "metadata": {},
   "source": [
    "## Why bother with pydantic and ipyautoui?"
   ]
  },
  {
   "cell_type": "markdown",
   "id": "6604f196-e2ed-49cb-92a6-fefcd8a74501",
   "metadata": {},
   "source": [
    "The most obvious advantage is that you need to write little or no ui code. It is also easy to compose complex settings or controls by making pydantic models whose types are a pydantic model, and ipyautoui knows how to render those (the next notebook presents an example of that).\n",
    "\n",
    "Those settings can all be saved to disk as JSON either from Python or by clicking the \"save\" button in the ipyautoui-generated widget.\n",
    "\n",
    "Another advantage in larger projects is that it encourages you to separate your application logic from the implementation of the user interface.\n",
    "\n",
    "Keeping those separate makes testing the application logic much more straightforward. It also makes it easier to change the UI in the future if new options become available."
   ]
  },
  {
   "cell_type": "code",
   "execution_count": null,
   "id": "cd57633e-9526-430c-8470-8d70fe2ba9b8",
   "metadata": {},
   "outputs": [],
   "source": []
  }
 ],
 "metadata": {
  "kernelspec": {
   "display_name": "Python 3 (ipykernel)",
   "language": "python",
   "name": "python3"
  },
  "language_info": {
   "codemirror_mode": {
    "name": "ipython",
    "version": 3
   },
   "file_extension": ".py",
   "mimetype": "text/x-python",
   "name": "python",
   "nbconvert_exporter": "python",
   "pygments_lexer": "ipython3",
   "version": "3.11.9"
  }
 },
 "nbformat": 4,
 "nbformat_minor": 5
}
